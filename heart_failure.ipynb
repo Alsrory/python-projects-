{
 "cells": [
  {
   "cell_type": "code",
   "execution_count": 9,
   "metadata": {},
   "outputs": [],
   "source": [
    "import pandas as pd\n",
    "import numpy as np\n",
    "from matplotlib import pyplot as plt\n",
    "from matplotlib import pyplot\n",
    "from sklearn.model_selection import train_test_split\n",
    "from sklearn.model_selection import cross_val_score\n",
    "from sklearn.model_selection import StratifiedKFold\n",
    "from sklearn.model_selection import KFold\n",
    "from sklearn.model_selection import cross_val_score\n",
    "from sklearn.preprocessing import MinMaxScaler\n",
    "from sklearn.metrics import classification_report\n",
    "from sklearn.metrics import confusion_matrix\n",
    "from sklearn.metrics import accuracy_score\n",
    "from sklearn.linear_model import LogisticRegression\n",
    "from sklearn.tree import DecisionTreeClassifier\n",
    "from sklearn.neighbors import KNeighborsClassifier\n",
    "from sklearn.discriminant_analysis import LinearDiscriminantAnalysis\n",
    "from sklearn.naive_bayes import GaussianNB\n",
    "from sklearn.svm import SVC"
   ]
  },
  {
   "cell_type": "code",
   "execution_count": 10,
   "metadata": {},
   "outputs": [],
   "source": [
    "df=pd.read_csv(\"heart_failure.csv\")"
   ]
  },
  {
   "cell_type": "code",
   "execution_count": 11,
   "metadata": {},
   "outputs": [
    {
     "name": "stdout",
     "output_type": "stream",
     "text": [
      "(299, 13)\n"
     ]
    }
   ],
   "source": [
    "# shape\n",
    "print(df.shape)"
   ]
  },
  {
   "cell_type": "code",
   "execution_count": 12,
   "metadata": {},
   "outputs": [
    {
     "data": {
      "text/html": [
       "<div>\n",
       "<style scoped>\n",
       "    .dataframe tbody tr th:only-of-type {\n",
       "        vertical-align: middle;\n",
       "    }\n",
       "\n",
       "    .dataframe tbody tr th {\n",
       "        vertical-align: top;\n",
       "    }\n",
       "\n",
       "    .dataframe thead th {\n",
       "        text-align: right;\n",
       "    }\n",
       "</style>\n",
       "<table border=\"1\" class=\"dataframe\">\n",
       "  <thead>\n",
       "    <tr style=\"text-align: right;\">\n",
       "      <th></th>\n",
       "      <th>age</th>\n",
       "      <th>anaemia</th>\n",
       "      <th>creatinine_phosphokinase</th>\n",
       "      <th>diabetes</th>\n",
       "      <th>ejection_fraction</th>\n",
       "      <th>high_blood_pressure</th>\n",
       "      <th>platelets</th>\n",
       "      <th>serum_creatinine</th>\n",
       "      <th>serum_sodium</th>\n",
       "      <th>sex</th>\n",
       "      <th>smoking</th>\n",
       "      <th>time</th>\n",
       "      <th>DEATH_EVENT</th>\n",
       "    </tr>\n",
       "  </thead>\n",
       "  <tbody>\n",
       "    <tr>\n",
       "      <th>0</th>\n",
       "      <td>75.0</td>\n",
       "      <td>0</td>\n",
       "      <td>582</td>\n",
       "      <td>0</td>\n",
       "      <td>20</td>\n",
       "      <td>1</td>\n",
       "      <td>265000.00</td>\n",
       "      <td>1.9</td>\n",
       "      <td>130</td>\n",
       "      <td>1</td>\n",
       "      <td>0</td>\n",
       "      <td>4</td>\n",
       "      <td>1</td>\n",
       "    </tr>\n",
       "    <tr>\n",
       "      <th>1</th>\n",
       "      <td>55.0</td>\n",
       "      <td>0</td>\n",
       "      <td>7861</td>\n",
       "      <td>0</td>\n",
       "      <td>38</td>\n",
       "      <td>0</td>\n",
       "      <td>263358.03</td>\n",
       "      <td>1.1</td>\n",
       "      <td>136</td>\n",
       "      <td>1</td>\n",
       "      <td>0</td>\n",
       "      <td>6</td>\n",
       "      <td>1</td>\n",
       "    </tr>\n",
       "    <tr>\n",
       "      <th>2</th>\n",
       "      <td>65.0</td>\n",
       "      <td>0</td>\n",
       "      <td>146</td>\n",
       "      <td>0</td>\n",
       "      <td>20</td>\n",
       "      <td>0</td>\n",
       "      <td>162000.00</td>\n",
       "      <td>1.3</td>\n",
       "      <td>129</td>\n",
       "      <td>1</td>\n",
       "      <td>1</td>\n",
       "      <td>7</td>\n",
       "      <td>1</td>\n",
       "    </tr>\n",
       "    <tr>\n",
       "      <th>3</th>\n",
       "      <td>50.0</td>\n",
       "      <td>1</td>\n",
       "      <td>111</td>\n",
       "      <td>0</td>\n",
       "      <td>20</td>\n",
       "      <td>0</td>\n",
       "      <td>210000.00</td>\n",
       "      <td>1.9</td>\n",
       "      <td>137</td>\n",
       "      <td>1</td>\n",
       "      <td>0</td>\n",
       "      <td>7</td>\n",
       "      <td>1</td>\n",
       "    </tr>\n",
       "    <tr>\n",
       "      <th>4</th>\n",
       "      <td>65.0</td>\n",
       "      <td>1</td>\n",
       "      <td>160</td>\n",
       "      <td>1</td>\n",
       "      <td>20</td>\n",
       "      <td>0</td>\n",
       "      <td>327000.00</td>\n",
       "      <td>2.7</td>\n",
       "      <td>116</td>\n",
       "      <td>0</td>\n",
       "      <td>0</td>\n",
       "      <td>8</td>\n",
       "      <td>1</td>\n",
       "    </tr>\n",
       "    <tr>\n",
       "      <th>5</th>\n",
       "      <td>90.0</td>\n",
       "      <td>1</td>\n",
       "      <td>47</td>\n",
       "      <td>0</td>\n",
       "      <td>40</td>\n",
       "      <td>1</td>\n",
       "      <td>204000.00</td>\n",
       "      <td>2.1</td>\n",
       "      <td>132</td>\n",
       "      <td>1</td>\n",
       "      <td>1</td>\n",
       "      <td>8</td>\n",
       "      <td>1</td>\n",
       "    </tr>\n",
       "    <tr>\n",
       "      <th>6</th>\n",
       "      <td>75.0</td>\n",
       "      <td>1</td>\n",
       "      <td>246</td>\n",
       "      <td>0</td>\n",
       "      <td>15</td>\n",
       "      <td>0</td>\n",
       "      <td>127000.00</td>\n",
       "      <td>1.2</td>\n",
       "      <td>137</td>\n",
       "      <td>1</td>\n",
       "      <td>0</td>\n",
       "      <td>10</td>\n",
       "      <td>1</td>\n",
       "    </tr>\n",
       "    <tr>\n",
       "      <th>7</th>\n",
       "      <td>60.0</td>\n",
       "      <td>1</td>\n",
       "      <td>315</td>\n",
       "      <td>1</td>\n",
       "      <td>60</td>\n",
       "      <td>0</td>\n",
       "      <td>454000.00</td>\n",
       "      <td>1.1</td>\n",
       "      <td>131</td>\n",
       "      <td>1</td>\n",
       "      <td>1</td>\n",
       "      <td>10</td>\n",
       "      <td>1</td>\n",
       "    </tr>\n",
       "    <tr>\n",
       "      <th>8</th>\n",
       "      <td>65.0</td>\n",
       "      <td>0</td>\n",
       "      <td>157</td>\n",
       "      <td>0</td>\n",
       "      <td>65</td>\n",
       "      <td>0</td>\n",
       "      <td>263358.03</td>\n",
       "      <td>1.5</td>\n",
       "      <td>138</td>\n",
       "      <td>0</td>\n",
       "      <td>0</td>\n",
       "      <td>10</td>\n",
       "      <td>1</td>\n",
       "    </tr>\n",
       "    <tr>\n",
       "      <th>9</th>\n",
       "      <td>80.0</td>\n",
       "      <td>1</td>\n",
       "      <td>123</td>\n",
       "      <td>0</td>\n",
       "      <td>35</td>\n",
       "      <td>1</td>\n",
       "      <td>388000.00</td>\n",
       "      <td>9.4</td>\n",
       "      <td>133</td>\n",
       "      <td>1</td>\n",
       "      <td>1</td>\n",
       "      <td>10</td>\n",
       "      <td>1</td>\n",
       "    </tr>\n",
       "    <tr>\n",
       "      <th>10</th>\n",
       "      <td>75.0</td>\n",
       "      <td>1</td>\n",
       "      <td>81</td>\n",
       "      <td>0</td>\n",
       "      <td>38</td>\n",
       "      <td>1</td>\n",
       "      <td>368000.00</td>\n",
       "      <td>4.0</td>\n",
       "      <td>131</td>\n",
       "      <td>1</td>\n",
       "      <td>1</td>\n",
       "      <td>10</td>\n",
       "      <td>1</td>\n",
       "    </tr>\n",
       "    <tr>\n",
       "      <th>11</th>\n",
       "      <td>62.0</td>\n",
       "      <td>0</td>\n",
       "      <td>231</td>\n",
       "      <td>0</td>\n",
       "      <td>25</td>\n",
       "      <td>1</td>\n",
       "      <td>253000.00</td>\n",
       "      <td>0.9</td>\n",
       "      <td>140</td>\n",
       "      <td>1</td>\n",
       "      <td>1</td>\n",
       "      <td>10</td>\n",
       "      <td>1</td>\n",
       "    </tr>\n",
       "    <tr>\n",
       "      <th>12</th>\n",
       "      <td>45.0</td>\n",
       "      <td>1</td>\n",
       "      <td>981</td>\n",
       "      <td>0</td>\n",
       "      <td>30</td>\n",
       "      <td>0</td>\n",
       "      <td>136000.00</td>\n",
       "      <td>1.1</td>\n",
       "      <td>137</td>\n",
       "      <td>1</td>\n",
       "      <td>0</td>\n",
       "      <td>11</td>\n",
       "      <td>1</td>\n",
       "    </tr>\n",
       "    <tr>\n",
       "      <th>13</th>\n",
       "      <td>50.0</td>\n",
       "      <td>1</td>\n",
       "      <td>168</td>\n",
       "      <td>0</td>\n",
       "      <td>38</td>\n",
       "      <td>1</td>\n",
       "      <td>276000.00</td>\n",
       "      <td>1.1</td>\n",
       "      <td>137</td>\n",
       "      <td>1</td>\n",
       "      <td>0</td>\n",
       "      <td>11</td>\n",
       "      <td>1</td>\n",
       "    </tr>\n",
       "    <tr>\n",
       "      <th>14</th>\n",
       "      <td>49.0</td>\n",
       "      <td>1</td>\n",
       "      <td>80</td>\n",
       "      <td>0</td>\n",
       "      <td>30</td>\n",
       "      <td>1</td>\n",
       "      <td>427000.00</td>\n",
       "      <td>1.0</td>\n",
       "      <td>138</td>\n",
       "      <td>0</td>\n",
       "      <td>0</td>\n",
       "      <td>12</td>\n",
       "      <td>0</td>\n",
       "    </tr>\n",
       "    <tr>\n",
       "      <th>15</th>\n",
       "      <td>82.0</td>\n",
       "      <td>1</td>\n",
       "      <td>379</td>\n",
       "      <td>0</td>\n",
       "      <td>50</td>\n",
       "      <td>0</td>\n",
       "      <td>47000.00</td>\n",
       "      <td>1.3</td>\n",
       "      <td>136</td>\n",
       "      <td>1</td>\n",
       "      <td>0</td>\n",
       "      <td>13</td>\n",
       "      <td>1</td>\n",
       "    </tr>\n",
       "    <tr>\n",
       "      <th>16</th>\n",
       "      <td>87.0</td>\n",
       "      <td>1</td>\n",
       "      <td>149</td>\n",
       "      <td>0</td>\n",
       "      <td>38</td>\n",
       "      <td>0</td>\n",
       "      <td>262000.00</td>\n",
       "      <td>0.9</td>\n",
       "      <td>140</td>\n",
       "      <td>1</td>\n",
       "      <td>0</td>\n",
       "      <td>14</td>\n",
       "      <td>1</td>\n",
       "    </tr>\n",
       "    <tr>\n",
       "      <th>17</th>\n",
       "      <td>45.0</td>\n",
       "      <td>0</td>\n",
       "      <td>582</td>\n",
       "      <td>0</td>\n",
       "      <td>14</td>\n",
       "      <td>0</td>\n",
       "      <td>166000.00</td>\n",
       "      <td>0.8</td>\n",
       "      <td>127</td>\n",
       "      <td>1</td>\n",
       "      <td>0</td>\n",
       "      <td>14</td>\n",
       "      <td>1</td>\n",
       "    </tr>\n",
       "    <tr>\n",
       "      <th>18</th>\n",
       "      <td>70.0</td>\n",
       "      <td>1</td>\n",
       "      <td>125</td>\n",
       "      <td>0</td>\n",
       "      <td>25</td>\n",
       "      <td>1</td>\n",
       "      <td>237000.00</td>\n",
       "      <td>1.0</td>\n",
       "      <td>140</td>\n",
       "      <td>0</td>\n",
       "      <td>0</td>\n",
       "      <td>15</td>\n",
       "      <td>1</td>\n",
       "    </tr>\n",
       "    <tr>\n",
       "      <th>19</th>\n",
       "      <td>48.0</td>\n",
       "      <td>1</td>\n",
       "      <td>582</td>\n",
       "      <td>1</td>\n",
       "      <td>55</td>\n",
       "      <td>0</td>\n",
       "      <td>87000.00</td>\n",
       "      <td>1.9</td>\n",
       "      <td>121</td>\n",
       "      <td>0</td>\n",
       "      <td>0</td>\n",
       "      <td>15</td>\n",
       "      <td>1</td>\n",
       "    </tr>\n",
       "  </tbody>\n",
       "</table>\n",
       "</div>"
      ],
      "text/plain": [
       "     age  anaemia  creatinine_phosphokinase  diabetes  ejection_fraction  \\\n",
       "0   75.0        0                       582         0                 20   \n",
       "1   55.0        0                      7861         0                 38   \n",
       "2   65.0        0                       146         0                 20   \n",
       "3   50.0        1                       111         0                 20   \n",
       "4   65.0        1                       160         1                 20   \n",
       "5   90.0        1                        47         0                 40   \n",
       "6   75.0        1                       246         0                 15   \n",
       "7   60.0        1                       315         1                 60   \n",
       "8   65.0        0                       157         0                 65   \n",
       "9   80.0        1                       123         0                 35   \n",
       "10  75.0        1                        81         0                 38   \n",
       "11  62.0        0                       231         0                 25   \n",
       "12  45.0        1                       981         0                 30   \n",
       "13  50.0        1                       168         0                 38   \n",
       "14  49.0        1                        80         0                 30   \n",
       "15  82.0        1                       379         0                 50   \n",
       "16  87.0        1                       149         0                 38   \n",
       "17  45.0        0                       582         0                 14   \n",
       "18  70.0        1                       125         0                 25   \n",
       "19  48.0        1                       582         1                 55   \n",
       "\n",
       "    high_blood_pressure  platelets  serum_creatinine  serum_sodium  sex  \\\n",
       "0                     1  265000.00               1.9           130    1   \n",
       "1                     0  263358.03               1.1           136    1   \n",
       "2                     0  162000.00               1.3           129    1   \n",
       "3                     0  210000.00               1.9           137    1   \n",
       "4                     0  327000.00               2.7           116    0   \n",
       "5                     1  204000.00               2.1           132    1   \n",
       "6                     0  127000.00               1.2           137    1   \n",
       "7                     0  454000.00               1.1           131    1   \n",
       "8                     0  263358.03               1.5           138    0   \n",
       "9                     1  388000.00               9.4           133    1   \n",
       "10                    1  368000.00               4.0           131    1   \n",
       "11                    1  253000.00               0.9           140    1   \n",
       "12                    0  136000.00               1.1           137    1   \n",
       "13                    1  276000.00               1.1           137    1   \n",
       "14                    1  427000.00               1.0           138    0   \n",
       "15                    0   47000.00               1.3           136    1   \n",
       "16                    0  262000.00               0.9           140    1   \n",
       "17                    0  166000.00               0.8           127    1   \n",
       "18                    1  237000.00               1.0           140    0   \n",
       "19                    0   87000.00               1.9           121    0   \n",
       "\n",
       "    smoking  time  DEATH_EVENT  \n",
       "0         0     4            1  \n",
       "1         0     6            1  \n",
       "2         1     7            1  \n",
       "3         0     7            1  \n",
       "4         0     8            1  \n",
       "5         1     8            1  \n",
       "6         0    10            1  \n",
       "7         1    10            1  \n",
       "8         0    10            1  \n",
       "9         1    10            1  \n",
       "10        1    10            1  \n",
       "11        1    10            1  \n",
       "12        0    11            1  \n",
       "13        0    11            1  \n",
       "14        0    12            0  \n",
       "15        0    13            1  \n",
       "16        0    14            1  \n",
       "17        0    14            1  \n",
       "18        0    15            1  \n",
       "19        0    15            1  "
      ]
     },
     "execution_count": 12,
     "metadata": {},
     "output_type": "execute_result"
    }
   ],
   "source": [
    "# head\n",
    "df.head(20)"
   ]
  },
  {
   "cell_type": "code",
   "execution_count": 13,
   "metadata": {},
   "outputs": [
    {
     "name": "stdout",
     "output_type": "stream",
     "text": [
      "              age     anaemia  creatinine_phosphokinase    diabetes  \\\n",
      "count  299.000000  299.000000                299.000000  299.000000   \n",
      "mean    60.833893    0.431438                581.839465    0.418060   \n",
      "std     11.894809    0.496107                970.287881    0.494067   \n",
      "min     40.000000    0.000000                 23.000000    0.000000   \n",
      "25%     51.000000    0.000000                116.500000    0.000000   \n",
      "50%     60.000000    0.000000                250.000000    0.000000   \n",
      "75%     70.000000    1.000000                582.000000    1.000000   \n",
      "max     95.000000    1.000000               7861.000000    1.000000   \n",
      "\n",
      "       ejection_fraction  high_blood_pressure      platelets  \\\n",
      "count         299.000000           299.000000     299.000000   \n",
      "mean           38.083612             0.351171  263358.029264   \n",
      "std            11.834841             0.478136   97804.236869   \n",
      "min            14.000000             0.000000   25100.000000   \n",
      "25%            30.000000             0.000000  212500.000000   \n",
      "50%            38.000000             0.000000  262000.000000   \n",
      "75%            45.000000             1.000000  303500.000000   \n",
      "max            80.000000             1.000000  850000.000000   \n",
      "\n",
      "       serum_creatinine  serum_sodium         sex    smoking        time  \\\n",
      "count         299.00000    299.000000  299.000000  299.00000  299.000000   \n",
      "mean            1.39388    136.625418    0.648829    0.32107  130.260870   \n",
      "std             1.03451      4.412477    0.478136    0.46767   77.614208   \n",
      "min             0.50000    113.000000    0.000000    0.00000    4.000000   \n",
      "25%             0.90000    134.000000    0.000000    0.00000   73.000000   \n",
      "50%             1.10000    137.000000    1.000000    0.00000  115.000000   \n",
      "75%             1.40000    140.000000    1.000000    1.00000  203.000000   \n",
      "max             9.40000    148.000000    1.000000    1.00000  285.000000   \n",
      "\n",
      "       DEATH_EVENT  \n",
      "count    299.00000  \n",
      "mean       0.32107  \n",
      "std        0.46767  \n",
      "min        0.00000  \n",
      "25%        0.00000  \n",
      "50%        0.00000  \n",
      "75%        1.00000  \n",
      "max        1.00000  \n"
     ]
    }
   ],
   "source": [
    "# descriptions\n",
    "print(df.describe())"
   ]
  },
  {
   "cell_type": "code",
   "execution_count": 14,
   "metadata": {},
   "outputs": [
    {
     "name": "stdout",
     "output_type": "stream",
     "text": [
      "DEATH_EVENT\n",
      "0    203\n",
      "1     96\n",
      "dtype: int64\n"
     ]
    }
   ],
   "source": [
    "# class distribution number of instances (rows) that belong to each class\n",
    "print(df.groupby('DEATH_EVENT').size())"
   ]
  },
  {
   "cell_type": "code",
   "execution_count": 15,
   "metadata": {},
   "outputs": [
    {
     "data": {
      "image/png": "[encoded data removed]",
      "text/plain": [
       "<Figure size 432x288 with 16 Axes>"
      ]
     },
     "metadata": {
      "needs_background": "light"
     },
     "output_type": "display_data"
    }
   ],
   "source": [
    "# histograms\n",
    "df.hist()\n",
    "pyplot.show()"
   ]
  },
  {
   "cell_type": "code",
   "execution_count": 16,
   "metadata": {},
   "outputs": [
    {
     "data": {
      "image/png": "[encoded data removed]",
      "text/plain": [
       "<Figure size 432x288 with 1 Axes>"
      ]
     },
     "metadata": {
      "needs_background": "light"
     },
     "output_type": "display_data"
    },
    {
     "data": {
      "image/png": "[encoded data removed]",
      "text/plain": [
       "<Figure size 432x288 with 1 Axes>"
      ]
     },
     "metadata": {
      "needs_background": "light"
     },
     "output_type": "display_data"
    }
   ],
   "source": [
    "df.plot.hist()\n",
    "df.plot.scatter(x='DEATH_EVENT',y='platelets')\n",
    "plt.show()"
   ]
  },
  {
   "cell_type": "code",
   "execution_count": 17,
   "metadata": {},
   "outputs": [],
   "source": [
    "x=df.drop([\"DEATH_EVENT\"],inplace=False,axis=1)\n",
    "y=df[\"DEATH_EVENT\"]"
   ]
  },
  {
   "cell_type": "code",
   "execution_count": 18,
   "metadata": {},
   "outputs": [
    {
     "data": {
      "text/html": [
       "<div>\n",
       "<style scoped>\n",
       "    .dataframe tbody tr th:only-of-type {\n",
       "        vertical-align: middle;\n",
       "    }\n",
       "\n",
       "    .dataframe tbody tr th {\n",
       "        vertical-align: top;\n",
       "    }\n",
       "\n",
       "    .dataframe thead th {\n",
       "        text-align: right;\n",
       "    }\n",
       "</style>\n",
       "<table border=\"1\" class=\"dataframe\">\n",
       "  <thead>\n",
       "    <tr style=\"text-align: right;\">\n",
       "      <th></th>\n",
       "      <th>age</th>\n",
       "      <th>anaemia</th>\n",
       "      <th>creatinine_phosphokinase</th>\n",
       "      <th>diabetes</th>\n",
       "      <th>ejection_fraction</th>\n",
       "      <th>high_blood_pressure</th>\n",
       "      <th>platelets</th>\n",
       "      <th>serum_creatinine</th>\n",
       "      <th>serum_sodium</th>\n",
       "      <th>sex</th>\n",
       "      <th>smoking</th>\n",
       "      <th>time</th>\n",
       "    </tr>\n",
       "  </thead>\n",
       "  <tbody>\n",
       "    <tr>\n",
       "      <th>0</th>\n",
       "      <td>75.0</td>\n",
       "      <td>0</td>\n",
       "      <td>582</td>\n",
       "      <td>0</td>\n",
       "      <td>20</td>\n",
       "      <td>1</td>\n",
       "      <td>265000.00</td>\n",
       "      <td>1.9</td>\n",
       "      <td>130</td>\n",
       "      <td>1</td>\n",
       "      <td>0</td>\n",
       "      <td>4</td>\n",
       "    </tr>\n",
       "    <tr>\n",
       "      <th>1</th>\n",
       "      <td>55.0</td>\n",
       "      <td>0</td>\n",
       "      <td>7861</td>\n",
       "      <td>0</td>\n",
       "      <td>38</td>\n",
       "      <td>0</td>\n",
       "      <td>263358.03</td>\n",
       "      <td>1.1</td>\n",
       "      <td>136</td>\n",
       "      <td>1</td>\n",
       "      <td>0</td>\n",
       "      <td>6</td>\n",
       "    </tr>\n",
       "    <tr>\n",
       "      <th>2</th>\n",
       "      <td>65.0</td>\n",
       "      <td>0</td>\n",
       "      <td>146</td>\n",
       "      <td>0</td>\n",
       "      <td>20</td>\n",
       "      <td>0</td>\n",
       "      <td>162000.00</td>\n",
       "      <td>1.3</td>\n",
       "      <td>129</td>\n",
       "      <td>1</td>\n",
       "      <td>1</td>\n",
       "      <td>7</td>\n",
       "    </tr>\n",
       "    <tr>\n",
       "      <th>3</th>\n",
       "      <td>50.0</td>\n",
       "      <td>1</td>\n",
       "      <td>111</td>\n",
       "      <td>0</td>\n",
       "      <td>20</td>\n",
       "      <td>0</td>\n",
       "      <td>210000.00</td>\n",
       "      <td>1.9</td>\n",
       "      <td>137</td>\n",
       "      <td>1</td>\n",
       "      <td>0</td>\n",
       "      <td>7</td>\n",
       "    </tr>\n",
       "    <tr>\n",
       "      <th>4</th>\n",
       "      <td>65.0</td>\n",
       "      <td>1</td>\n",
       "      <td>160</td>\n",
       "      <td>1</td>\n",
       "      <td>20</td>\n",
       "      <td>0</td>\n",
       "      <td>327000.00</td>\n",
       "      <td>2.7</td>\n",
       "      <td>116</td>\n",
       "      <td>0</td>\n",
       "      <td>0</td>\n",
       "      <td>8</td>\n",
       "    </tr>\n",
       "  </tbody>\n",
       "</table>\n",
       "</div>"
      ],
      "text/plain": [
       "    age  anaemia  creatinine_phosphokinase  diabetes  ejection_fraction  \\\n",
       "0  75.0        0                       582         0                 20   \n",
       "1  55.0        0                      7861         0                 38   \n",
       "2  65.0        0                       146         0                 20   \n",
       "3  50.0        1                       111         0                 20   \n",
       "4  65.0        1                       160         1                 20   \n",
       "\n",
       "   high_blood_pressure  platelets  serum_creatinine  serum_sodium  sex  \\\n",
       "0                    1  265000.00               1.9           130    1   \n",
       "1                    0  263358.03               1.1           136    1   \n",
       "2                    0  162000.00               1.3           129    1   \n",
       "3                    0  210000.00               1.9           137    1   \n",
       "4                    0  327000.00               2.7           116    0   \n",
       "\n",
       "   smoking  time  \n",
       "0        0     4  \n",
       "1        0     6  \n",
       "2        1     7  \n",
       "3        0     7  \n",
       "4        0     8  "
      ]
     },
     "execution_count": 18,
     "metadata": {},
     "output_type": "execute_result"
    }
   ],
   "source": [
    "x.head()"
   ]
  },
  {
   "cell_type": "code",
   "execution_count": 19,
   "metadata": {},
   "outputs": [],
   "source": [
    " X_train, X_test, y_train, y_test = train_test_split(x, y, test_size=0.20, random_state=50)"
   ]
  },
  {
   "cell_type": "code",
   "execution_count": 20,
   "metadata": {},
   "outputs": [
    {
     "data": {
      "text/plain": [
       "0    1\n",
       "1    1\n",
       "2    1\n",
       "3    1\n",
       "4    1\n",
       "Name: DEATH_EVENT, dtype: int64"
      ]
     },
     "execution_count": 20,
     "metadata": {},
     "output_type": "execute_result"
    }
   ],
   "source": [
    "y.head()"
   ]
  },
  {
   "cell_type": "code",
   "execution_count": 21,
   "metadata": {},
   "outputs": [
    {
     "name": "stdout",
     "output_type": "stream",
     "text": [
      "1:0.55\t:Cross_val_scor=[0.5656581386725993]\n",
      "2:0.65\t:Cross_val_scor=[0.6454949944382646]\n",
      "3:0.6333333333333333\t:Cross_val_scor=[0.5891138301816834]\n",
      "4:0.6333333333333333\t:Cross_val_scor=[0.6592955135335558]\n",
      "5:0.65\t:Cross_val_scor=[0.6520763811642565]\n",
      "6:0.6666666666666666\t:Cross_val_scor=[0.6656321839080459]\n",
      "7:0.65\t:Cross_val_scor=[0.6418390804597701]\n",
      "8:0.65\t:Cross_val_scor=[0.6557397107897663]\n",
      "9:0.65\t:Cross_val_scor=[0.6422840192806822]\n",
      "10:0.6666666666666666\t:Cross_val_scor=[0.6624137931034484]\n",
      "11:0.65\t:Cross_val_scor=[0.6621987393400074]\n",
      "12:0.65\t:Cross_val_scor=[0.6689729328883945]\n",
      "13:0.65\t:Cross_val_scor=[0.6725361512791992]\n",
      "14:0.65\t:Cross_val_scor=[0.6721987393400074]\n",
      "15:0.65\t:Cross_val_scor=[0.6756470152020764]\n",
      "16:0.65\t:Cross_val_scor=[0.6757545420837969]\n",
      "17:0.65\t:Cross_val_scor=[0.6656321839080459]\n",
      "18:0.65\t:Cross_val_scor=[0.6723062662217278]\n",
      "19:0.65\t:Cross_val_scor=[0.6723062662217278]\n",
      "20:0.65\t:Cross_val_scor=[0.6756395995550613]\n",
      "21:0.65\t:Cross_val_scor=[0.6756395995550613]\n",
      "22:0.65\t:Cross_val_scor=[0.6790878754171302]\n",
      "23:0.65\t:Cross_val_scor=[0.6757545420837969]\n",
      "24:0.65\t:Cross_val_scor=[0.6790878754171302]\n",
      "25:0.65\t:Cross_val_scor=[0.6790878754171302]\n",
      "26:0.65\t:Cross_val_scor=[0.6790878754171302]\n",
      "27:0.65\t:Cross_val_scor=[0.6790878754171302]\n",
      "28:0.65\t:Cross_val_scor=[0.6790878754171302]\n",
      "29:0.65\t:Cross_val_scor=[0.6790878754171302]\n",
      "30:0.65\t:Cross_val_scor=[0.6790878754171302]\n",
      "31:0.65\t:Cross_val_scor=[0.6790878754171302]\n",
      "32:0.65\t:Cross_val_scor=[0.6790878754171302]\n",
      "33:0.65\t:Cross_val_scor=[0.6790878754171302]\n",
      "34:0.65\t:Cross_val_scor=[0.6790878754171302]\n",
      "35:0.65\t:Cross_val_scor=[0.6790878754171302]\n",
      "36:0.65\t:Cross_val_scor=[0.6790878754171302]\n",
      "37:0.65\t:Cross_val_scor=[0.6790878754171302]\n",
      "38:0.65\t:Cross_val_scor=[0.6790878754171302]\n",
      "39:0.65\t:Cross_val_scor=[0.6790878754171302]\n",
      "40:0.65\t:Cross_val_scor=[0.6790878754171302]\n",
      "41:0.65\t:Cross_val_scor=[0.6790878754171302]\n",
      "42:0.65\t:Cross_val_scor=[0.6790878754171302]\n",
      "43:0.65\t:Cross_val_scor=[0.6790878754171302]\n",
      "44:0.65\t:Cross_val_scor=[0.6790878754171302]\n",
      "45:0.65\t:Cross_val_scor=[0.6790878754171302]\n",
      "46:0.65\t:Cross_val_scor=[0.6790878754171302]\n",
      "47:0.65\t:Cross_val_scor=[0.6790878754171302]\n",
      "48:0.65\t:Cross_val_scor=[0.6790878754171302]\n",
      "49:0.65\t:Cross_val_scor=[0.6790878754171302]\n",
      "50:0.65\t:Cross_val_scor=[0.6790878754171302]\n",
      "51:0.65\t:Cross_val_scor=[0.6790878754171302]\n",
      "52:0.65\t:Cross_val_scor=[0.6790878754171302]\n",
      "53:0.65\t:Cross_val_scor=[0.6790878754171302]\n",
      "54:0.65\t:Cross_val_scor=[0.6790878754171302]\n",
      "55:0.65\t:Cross_val_scor=[0.6790878754171302]\n",
      "56:0.65\t:Cross_val_scor=[0.6790878754171302]\n",
      "57:0.65\t:Cross_val_scor=[0.6790878754171302]\n",
      "58:0.65\t:Cross_val_scor=[0.6790878754171302]\n",
      "59:0.65\t:Cross_val_scor=[0.6790878754171302]\n",
      "60:0.65\t:Cross_val_scor=[0.6790878754171302]\n",
      "61:0.65\t:Cross_val_scor=[0.6790878754171302]\n",
      "62:0.65\t:Cross_val_scor=[0.6790878754171302]\n",
      "63:0.65\t:Cross_val_scor=[0.6790878754171302]\n",
      "64:0.65\t:Cross_val_scor=[0.6790878754171302]\n",
      "65:0.65\t:Cross_val_scor=[0.6790878754171302]\n",
      "66:0.65\t:Cross_val_scor=[0.6790878754171302]\n",
      "67:0.65\t:Cross_val_scor=[0.6790878754171302]\n",
      "68:0.65\t:Cross_val_scor=[0.6790878754171302]\n",
      "69:0.65\t:Cross_val_scor=[0.6790878754171302]\n",
      "70:0.65\t:Cross_val_scor=[0.6790878754171302]\n",
      "71:0.65\t:Cross_val_scor=[0.6790878754171302]\n",
      "72:0.65\t:Cross_val_scor=[0.6790878754171302]\n",
      "73:0.65\t:Cross_val_scor=[0.6790878754171302]\n",
      "74:0.65\t:Cross_val_scor=[0.6790878754171302]\n",
      "75:0.65\t:Cross_val_scor=[0.6790878754171302]\n",
      "76:0.65\t:Cross_val_scor=[0.6790878754171302]\n",
      "77:0.65\t:Cross_val_scor=[0.6790878754171302]\n",
      "78:0.65\t:Cross_val_scor=[0.6790878754171302]\n",
      "79:0.65\t:Cross_val_scor=[0.6790878754171302]\n",
      "80:0.65\t:Cross_val_scor=[0.6790878754171302]\n",
      "81:0.65\t:Cross_val_scor=[0.6790878754171302]\n",
      "82:0.65\t:Cross_val_scor=[0.6790878754171302]\n",
      "83:0.65\t:Cross_val_scor=[0.6790878754171302]\n",
      "84:0.65\t:Cross_val_scor=[0.6790878754171302]\n",
      "85:0.65\t:Cross_val_scor=[0.6790878754171302]\n",
      "86:0.65\t:Cross_val_scor=[0.6790878754171302]\n",
      "87:0.65\t:Cross_val_scor=[0.6790878754171302]\n",
      "88:0.65\t:Cross_val_scor=[0.6790878754171302]\n",
      "89:0.65\t:Cross_val_scor=[0.6790878754171302]\n",
      "90:0.65\t:Cross_val_scor=[0.6790878754171302]\n",
      "91:0.65\t:Cross_val_scor=[0.6790878754171302]\n",
      "92:0.65\t:Cross_val_scor=[0.6790878754171302]\n",
      "93:0.65\t:Cross_val_scor=[0.6790878754171302]\n",
      "94:0.65\t:Cross_val_scor=[0.6790878754171302]\n",
      "95:0.65\t:Cross_val_scor=[0.6790878754171302]\n",
      "96:0.65\t:Cross_val_scor=[0.6790878754171302]\n",
      "97:0.65\t:Cross_val_scor=[0.6790878754171302]\n",
      "98:0.65\t:Cross_val_scor=[0.6790878754171302]\n",
      "99:0.65\t:Cross_val_scor=[0.6790878754171302]\n"
     ]
    },
    {
     "data": {
      "text/plain": [
       "Text(0, 0.5, 'mean error')"
      ]
     },
     "execution_count": 21,
     "metadata": {},
     "output_type": "execute_result"
    },
    {
     "data": {
      "image/png": "[encoded data removed]",
      "text/plain": [
       "<Figure size 432x288 with 1 Axes>"
      ]
     },
     "metadata": {
      "needs_background": "light"
     },
     "output_type": "display_data"
    }
   ],
   "source": [
    "#choose the best parameter by using cross vaildation \n",
    "k_range=range(1,100)\n",
    "error=[]\n",
    "k_scores=[]\n",
    "for k in k_range:\n",
    "    knn = KNeighborsClassifier(n_neighbors=k)\n",
    "    knn.fit(X_train,y_train)\n",
    "    knn_predict=knn.predict(X_test)\n",
    "    error.append(np.mean(knn_predict!=y_test))\n",
    "    scores=cross_val_score(knn, x,y,cv=10,scoring='accuracy')\n",
    "    k_scores.append(scores.mean())   \n",
    "    print(str(k)+\":\"+str(accuracy_score(y_test, knn_predict))+\"\\t:Cross_val_scor=[\"+str(k_scores[k-1])+\"]\")\n",
    "plt.plot(range(1,100),error,color='red',linestyle='dashed',marker='o',markerfacecolor='blue',markersize=10)\n",
    "plt.title('erroe Rate')\n",
    "plt.xlabel('k vlue')\n",
    "plt.ylabel('mean error')\n",
    "    #scores=cross_val_score(knn, x,y,cv=10,scoring='accuracy')\n",
    "    #k_scores.append(scores.mean())\n",
    "#print(k_scores)   "
   ]
  },
  {
   "cell_type": "code",
   "execution_count": 22,
   "metadata": {},
   "outputs": [],
   "source": [
    "train_scores,test_scores=list(),list()"
   ]
  },
  {
   "cell_type": "code",
   "execution_count": 23,
   "metadata": {},
   "outputs": [
    {
     "name": "stdout",
     "output_type": "stream",
     "text": [
      "train scores :0.6926588056295171\n",
      "test scores :0.6489898989898991\n"
     ]
    }
   ],
   "source": [
    "#10-FOLED CROSS VAILDATION \n",
    "for k in range(1,100):\n",
    "    knn = KNeighborsClassifier(n_neighbors=k)\n",
    "    knn.fit(X_train,y_train)\n",
    "    knn_predict=knn.predict(X_test)\n",
    "    train_pred=knn.predict(X_train)\n",
    "    test_acc=accuracy_score(y_test, knn_predict)\n",
    "    train_acc=accuracy_score(y_train, train_pred)\n",
    "    \n",
    "    train_scores.append(train_acc)\n",
    "    test_scores.append(test_acc)\n",
    "    b=np.mean(test_scores)\n",
    "    v= np.mean(train_scores) \n",
    "    #scores=cross_val_score(knn,x,y,cv=10,scoring='accuracy')\n",
    "    #knn.fit(X_train, y_train)\n",
    "    #knn_predict=pred_i = knn.predict(X_test)\n",
    "print(\"train scores :\"+str(v)+\"\\n\"+\"test scores :\"+str(b))"
   ]
  },
  {
   "cell_type": "code",
   "execution_count": 24,
   "metadata": {},
   "outputs": [],
   "source": [
    "knn = KNeighborsClassifier(n_neighbors=10)\n",
    "knn.fit(X_train,y_train)\n",
    "knn_predict=knn.predict(X_test)"
   ]
  },
  {
   "cell_type": "code",
   "execution_count": 25,
   "metadata": {},
   "outputs": [
    {
     "data": {
      "text/plain": [
       "array([0, 0, 0, 0, 0, 0, 0, 0, 0, 0, 0, 0, 0, 0, 0, 0, 1, 0, 0, 0, 0, 0,\n",
       "       1, 0, 0, 0, 0, 0, 0, 0, 0, 0, 0, 0, 0, 0, 0, 0, 0, 0, 0, 0, 0, 0,\n",
       "       0, 0, 0, 0, 0, 0, 0, 0, 1, 0, 0, 0, 0, 0, 0, 0], dtype=int64)"
      ]
     },
     "execution_count": 25,
     "metadata": {},
     "output_type": "execute_result"
    }
   ],
   "source": [
    "knn_predict"
   ]
  },
  {
   "cell_type": "code",
   "execution_count": 26,
   "metadata": {},
   "outputs": [
    {
     "name": "stdout",
     "output_type": "stream",
     "text": [
      "[[38  1]\n",
      " [19  2]]\n"
     ]
    }
   ],
   "source": [
    "#print(test_acc)\n",
    "print(confusion_matrix(y_test, knn_predict))"
   ]
  },
  {
   "cell_type": "code",
   "execution_count": 27,
   "metadata": {},
   "outputs": [
    {
     "name": "stdout",
     "output_type": "stream",
     "text": [
      "0.6790878754171302\n"
     ]
    }
   ],
   "source": [
    "print(scores.mean())"
   ]
  },
  {
   "cell_type": "code",
   "execution_count": 28,
   "metadata": {},
   "outputs": [
    {
     "data": {
      "text/plain": [
       "73     0\n",
       "102    0\n",
       "160    0\n",
       "148    1\n",
       "24     1\n",
       "187    1\n",
       "281    0\n",
       "239    0\n",
       "37     1\n",
       "270    0\n",
       "273    0\n",
       "245    0\n",
       "122    0\n",
       "280    0\n",
       "153    0\n",
       "85     0\n",
       "167    1\n",
       "238    0\n",
       "98     0\n",
       "61     1\n",
       "82     1\n",
       "16     1\n",
       "121    0\n",
       "185    1\n",
       "108    0\n",
       "178    0\n",
       "172    0\n",
       "39     1\n",
       "34     1\n",
       "179    0\n",
       "63     1\n",
       "253    0\n",
       "20     0\n",
       "48     1\n",
       "224    0\n",
       "182    1\n",
       "149    0\n",
       "269    0\n",
       "191    0\n",
       "166    0\n",
       "8      1\n",
       "81     0\n",
       "10     1\n",
       "25     1\n",
       "97     0\n",
       "256    0\n",
       "202    0\n",
       "145    0\n",
       "135    0\n",
       "31     1\n",
       "18     1\n",
       "279    0\n",
       "15     1\n",
       "244    0\n",
       "226    0\n",
       "175    0\n",
       "100    0\n",
       "232    0\n",
       "217    1\n",
       "298    0\n",
       "Name: DEATH_EVENT, dtype: int64"
      ]
     },
     "execution_count": 28,
     "metadata": {},
     "output_type": "execute_result"
    }
   ],
   "source": [
    "y_test"
   ]
  },
  {
   "cell_type": "code",
   "execution_count": null,
   "metadata": {},
   "outputs": [],
   "source": []
  },
  {
   "cell_type": "code",
   "execution_count": 29,
   "metadata": {},
   "outputs": [],
   "source": [
    "values=[i for i in range(1,100)]"
   ]
  },
  {
   "cell_type": "code",
   "execution_count": 30,
   "metadata": {},
   "outputs": [
    {
     "data": {
      "text/plain": [
       "99"
      ]
     },
     "execution_count": 30,
     "metadata": {},
     "output_type": "execute_result"
    }
   ],
   "source": [
    "len(train_scores)"
   ]
  },
  {
   "cell_type": "code",
   "execution_count": 31,
   "metadata": {},
   "outputs": [
    {
     "data": {
      "image/png": "[encoded data removed]",
      "text/plain": [
       "<Figure size 432x288 with 1 Axes>"
      ]
     },
     "metadata": {
      "needs_background": "light"
     },
     "output_type": "display_data"
    }
   ],
   "source": [
    "pyplot.plot(values,train_scores,'-o',label='train')\n",
    "pyplot.plot(values,test_scores,'-o',label='test')\n",
    "pyplot.legend()\n",
    "pyplot.show()"
   ]
  },
  {
   "cell_type": "code",
   "execution_count": 33,
   "metadata": {},
   "outputs": [
    {
     "data": {
      "text/plain": [
       "array([0, 0, 0, 0, 0, 0, 0, 0, 0, 0, 0, 0, 0, 0, 0, 0, 1, 0, 0, 0, 0, 0,\n",
       "       1, 0, 0, 0, 0, 0, 0, 0, 0, 0, 0, 0, 0, 0, 0, 0, 0, 0, 0, 0, 0, 0,\n",
       "       0, 0, 0, 0, 0, 0, 0, 0, 1, 0, 0, 0, 0, 0, 0, 0], dtype=int64)"
      ]
     },
     "execution_count": 33,
     "metadata": {},
     "output_type": "execute_result"
    }
   ],
   "source": [
    "from sklearn.externals import joblib\n",
    "# Save the model as a pickle in a file\n",
    "joblib.dump(knn, 'filename2.pkl')\n",
    "\n",
    "# Load the model from the file\n",
    "knn_from_joblib = joblib.load('filename2.pkl')\n",
    "\n",
    "# Use the loaded model to make predictions\n",
    "knn_from_joblib.predict(X_test)"
   ]
  },
  {
   "cell_type": "code",
   "execution_count": 57,
   "metadata": {},
   "outputs": [
    {
     "name": "stdout",
     "output_type": "stream",
     "text": [
      "train acc:1.0, test acc:0.7666666666666667\n"
     ]
    },
    {
     "data": {
      "text/plain": [
       "Text(0, 0.5, 'mean error')"
      ]
     },
     "execution_count": 57,
     "metadata": {},
     "output_type": "execute_result"
    },
    {
     "data": {
      "image/png": "[encoded data removed]",
      "text/plain": [
       "<Figure size 432x288 with 1 Axes>"
      ]
     },
     "metadata": {
      "needs_background": "light"
     },
     "output_type": "display_data"
    }
   ],
   "source": [
    "train_scores_dTree,test_scores_dTree=list(),list()\n",
    "error=[]\n",
    "for m in range(1,100):\n",
    "    Dec_Tree = DecisionTreeClassifier(max_depth=m)\n",
    "    Dec_Tree.fit(X_train,y_train)\n",
    "    Dec_Tree_predict=Dec_Tree.predict(X_test)\n",
    "    train_pred=Dec_Tree.predict(X_train)\n",
    "    error.append(np.mean(Dec_Tree_predict!=y_test))\n",
    "    test_acc=accuracy_score(y_test, Dec_Tree_predict)\n",
    "    train_acc=accuracy_score(y_train, train_pred)\n",
    "    train_scores_dTree.append(train_acc)\n",
    "    test_scores_dTree.append(test_acc)\n",
    "print(\"train acc:\"+str(train_acc)+\", test acc:\"+str(test_acc))\n",
    "plt.plot(range(1,100),error,color='red',linestyle='dashed',marker='o',markerfacecolor='blue',markersize=10)\n",
    "plt.title('erroe Rate')\n",
    "plt.xlabel('k vlue')\n",
    "plt.ylabel('mean error')"
   ]
  },
  {
   "cell_type": "code",
   "execution_count": 98,
   "metadata": {},
   "outputs": [
    {
     "name": "stdout",
     "output_type": "stream",
     "text": [
      "[[32  7]\n",
      " [ 7 14]]\n"
     ]
    }
   ],
   "source": [
    "print(confusion_matrix(y_test, Dec_Tree_predict))"
   ]
  },
  {
   "cell_type": "code",
   "execution_count": 99,
   "metadata": {},
   "outputs": [
    {
     "data": {
      "image/png": "[encoded data removed]",
      "text/plain": [
       "<Figure size 432x288 with 1 Axes>"
      ]
     },
     "metadata": {
      "needs_background": "light"
     },
     "output_type": "display_data"
    }
   ],
   "source": [
    "pyplot.plot(values,train_scores_dTree,'-o',label='train')\n",
    "pyplot.plot(values,test_scores_dTree,'-o',label='test')\n",
    "pyplot.legend()\n",
    "pyplot.show()"
   ]
  },
  {
   "cell_type": "code",
   "execution_count": 100,
   "metadata": {},
   "outputs": [
    {
     "name": "stdout",
     "output_type": "stream",
     "text": [
      "train acc:0.8242677824267782, test acc:0.85\n"
     ]
    }
   ],
   "source": [
    "#model = SVC(gamma='auto')\n",
    "train_scores_SVC,test_scores_SVC=list(),list()\n",
    "\n",
    "model=SVC(kernel='linear')\n",
    "model.fit(X_train, y_train)\n",
    "svm_predict=model.predict(X_test)\n",
    "train_pred=model.predict(X_train)\n",
    "test_acc=accuracy_score(y_test, svm_predict)\n",
    "train_acc=accuracy_score(y_train, train_pred)\n",
    "train_scores_SVC.append(train_acc)\n",
    "test_scores_SVC.append(test_acc)\n",
    "print(\"train acc:\"+str(train_acc)+\", test acc:\"+str(test_acc))"
   ]
  },
  {
   "cell_type": "code",
   "execution_count": 101,
   "metadata": {},
   "outputs": [
    {
     "name": "stdout",
     "output_type": "stream",
     "text": [
      "[[37  2]\n",
      " [ 7 14]]\n"
     ]
    }
   ],
   "source": [
    "print(confusion_matrix(y_test, svm_predict))"
   ]
  },
  {
   "cell_type": "code",
   "execution_count": 102,
   "metadata": {},
   "outputs": [
    {
     "data": {
      "text/plain": [
       "array([0, 0, 0, 1, 1, 0, 1, 0, 0, 1, 0, 0, 0, 1, 0, 0, 0, 0, 1, 1, 0, 1,\n",
       "       0, 0, 0, 0, 0, 0, 1, 0, 0, 0, 1, 1, 1, 1, 0, 0, 0, 0, 1, 0, 1, 1,\n",
       "       0, 0, 0, 0, 0, 1, 1, 0, 1, 0, 1, 0, 0, 0, 1, 0], dtype=int64)"
      ]
     },
     "execution_count": 102,
     "metadata": {},
     "output_type": "execute_result"
    }
   ],
   "source": [
    "Dec_Tree_predict"
   ]
  },
  {
   "cell_type": "code",
   "execution_count": 103,
   "metadata": {},
   "outputs": [
    {
     "data": {
      "text/plain": [
       "array([0, 0, 0, 1, 1, 0, 1, 0, 0, 0, 0, 0, 0, 1, 0, 0, 1, 0, 1, 0, 1, 0,\n",
       "       1, 0, 0, 0, 0, 0, 0, 0, 0, 0, 0, 0, 0, 0, 0, 0, 0, 0, 0, 0, 0, 0,\n",
       "       0, 0, 0, 0, 0, 0, 0, 1, 1, 0, 0, 0, 0, 0, 1, 1], dtype=int64)"
      ]
     },
     "execution_count": 103,
     "metadata": {},
     "output_type": "execute_result"
    }
   ],
   "source": [
    "knn_predict"
   ]
  },
  {
   "cell_type": "code",
   "execution_count": 104,
   "metadata": {},
   "outputs": [
    {
     "data": {
      "text/plain": [
       "array([0, 1, 0, 0, 1, 0, 0, 0, 1, 0, 0, 0, 0, 0, 0, 0, 0, 0, 0, 1, 1, 1,\n",
       "       0, 0, 0, 0, 0, 1, 1, 0, 0, 0, 1, 1, 0, 0, 0, 0, 0, 0, 1, 0, 1, 1,\n",
       "       0, 0, 0, 0, 0, 1, 1, 0, 1, 0, 0, 0, 0, 0, 0, 0], dtype=int64)"
      ]
     },
     "execution_count": 104,
     "metadata": {},
     "output_type": "execute_result"
    }
   ],
   "source": [
    " svm_predict"
   ]
  },
  {
   "cell_type": "code",
   "execution_count": 106,
   "metadata": {},
   "outputs": [
    {
     "data": {
      "text/plain": [
       "73     0\n",
       "102    0\n",
       "160    0\n",
       "148    1\n",
       "24     1\n",
       "187    1\n",
       "281    0\n",
       "239    0\n",
       "37     1\n",
       "270    0\n",
       "273    0\n",
       "245    0\n",
       "122    0\n",
       "280    0\n",
       "153    0\n",
       "85     0\n",
       "167    1\n",
       "238    0\n",
       "98     0\n",
       "61     1\n",
       "82     1\n",
       "16     1\n",
       "121    0\n",
       "185    1\n",
       "108    0\n",
       "178    0\n",
       "172    0\n",
       "39     1\n",
       "34     1\n",
       "179    0\n",
       "63     1\n",
       "253    0\n",
       "20     0\n",
       "48     1\n",
       "224    0\n",
       "182    1\n",
       "149    0\n",
       "269    0\n",
       "191    0\n",
       "166    0\n",
       "8      1\n",
       "81     0\n",
       "10     1\n",
       "25     1\n",
       "97     0\n",
       "256    0\n",
       "202    0\n",
       "145    0\n",
       "135    0\n",
       "31     1\n",
       "18     1\n",
       "279    0\n",
       "15     1\n",
       "244    0\n",
       "226    0\n",
       "175    0\n",
       "100    0\n",
       "232    0\n",
       "217    1\n",
       "298    0\n",
       "Name: DEATH_EVENT, dtype: int64"
      ]
     },
     "execution_count": 106,
     "metadata": {},
     "output_type": "execute_result"
    }
   ],
   "source": [
    "y_test"
   ]
  },
  {
   "cell_type": "code",
   "execution_count": 107,
   "metadata": {},
   "outputs": [
    {
     "name": "stdout",
     "output_type": "stream",
     "text": [
      "SVM accuracy=0.85\n",
      "KNN accuracy=0.65\n",
      "Decesion Tree accuracy=0.7666666666666667\n"
     ]
    }
   ],
   "source": [
    "\n",
    "# Evaluate predictions\n",
    "svm_accurcy=accuracy_score(y_test,svm_predict)\n",
    "knn_accurcy=accuracy_score(y_test,knn_predict)\n",
    "Dec_Tree_accurcy=accuracy_score(y_test,Dec_Tree_predict)\n",
    "#Linear_accurcy=accuracy_score(y_test,regressor_pred)\n",
    "print(\"SVM accuracy=\"+str(svm_accurcy))\n",
    "print(\"KNN accuracy=\"+str(knn_accurcy))\n",
    "print(\"Decesion Tree accuracy=\"+str(Dec_Tree_accurcy))\n",
    "#print(\"Linear Regrision accuracy=\"+str(Linear_accurcy))"
   ]
  },
  {
   "cell_type": "code",
   "execution_count": 108,
   "metadata": {},
   "outputs": [
    {
     "name": "stdout",
     "output_type": "stream",
     "text": [
      "              precision    recall  f1-score   support\n",
      "\n",
      "           0       0.84      0.95      0.89        39\n",
      "           1       0.88      0.67      0.76        21\n",
      "\n",
      "    accuracy                           0.85        60\n",
      "   macro avg       0.86      0.81      0.82        60\n",
      "weighted avg       0.85      0.85      0.84        60\n",
      "\n"
     ]
    }
   ],
   "source": [
    "print(classification_report(y_test, svm_predict))"
   ]
  },
  {
   "cell_type": "code",
   "execution_count": 110,
   "metadata": {},
   "outputs": [
    {
     "name": "stdout",
     "output_type": "stream",
     "text": [
      "              precision    recall  f1-score   support\n",
      "\n",
      "           0       0.69      0.85      0.76        39\n",
      "           1       0.50      0.29      0.36        21\n",
      "\n",
      "    accuracy                           0.65        60\n",
      "   macro avg       0.59      0.57      0.56        60\n",
      "weighted avg       0.62      0.65      0.62        60\n",
      "\n"
     ]
    }
   ],
   "source": [
    "print(classification_report(y_test, knn_predict))"
   ]
  },
  {
   "cell_type": "code",
   "execution_count": 111,
   "metadata": {},
   "outputs": [
    {
     "name": "stdout",
     "output_type": "stream",
     "text": [
      "              precision    recall  f1-score   support\n",
      "\n",
      "           0       0.82      0.82      0.82        39\n",
      "           1       0.67      0.67      0.67        21\n",
      "\n",
      "    accuracy                           0.77        60\n",
      "   macro avg       0.74      0.74      0.74        60\n",
      "weighted avg       0.77      0.77      0.77        60\n",
      "\n"
     ]
    }
   ],
   "source": [
    "print(classification_report(y_test, Dec_Tree_predict))"
   ]
  },
  {
   "cell_type": "code",
   "execution_count": 34,
   "metadata": {},
   "outputs": [
    {
     "name": "stdout",
     "output_type": "stream",
     "text": [
      "LR: 0.818804 (0.057047)\n",
      "KNN: 0.599543 (0.071679)\n",
      "CART: 0.828196 (0.070090)\n",
      "NB: 0.802623 (0.074526)\n",
      "SVM: 0.806457 (0.075371)\n"
     ]
    }
   ],
   "source": [
    "# Spot Check Algorithms\n",
    "models = []\n",
    "models.append(('LR', LogisticRegression(solver='liblinear', multi_class='ovr')))\n",
    "models.append(('KNN', KNeighborsClassifier(5)))\n",
    "models.append(('CART', DecisionTreeClassifier()))\n",
    "models.append(('NB', GaussianNB()))\n",
    "models.append(('SVM', SVC(kernel='linear',gamma='auto')))\n",
    "# evaluate each model in turn\n",
    "results = []\n",
    "names = []\n",
    "for name, model in models:\n",
    "\tkfold = StratifiedKFold(n_splits=10, random_state=1, shuffle=True)\n",
    "\tcv_results = cross_val_score(model, X_train, y_train, cv=kfold, scoring='accuracy')\n",
    "\tresults.append(cv_results)\n",
    "\tnames.append(name)\n",
    "\tprint('%s: %f (%f)' % (name, cv_results.mean(), cv_results.std()))\n",
    "    #print(name,+':'+ cv_results.mean(), cv_results.std()))"
   ]
  },
  {
   "cell_type": "code",
   "execution_count": null,
   "metadata": {},
   "outputs": [],
   "source": [
    "scaler=MinMaxScaler(feature_range=(0,1)) #normalization to data\n",
    "X=scaler.fit_transform(x)\n",
    "scores=[]\n",
    "best_svm=SVC(kernel='linear',gamma='auto')\n",
    "cv=KFold(n_splits=10,random_state=42,shuffle=True)\n",
    "for train_index,test_index in cv.split(X):\n",
    "    #print(\"trian index:\",train_index,\"\\n\")\n",
    "    #print(\"test index :\",test_index)\n",
    "    X_train1,X_test1,y_trian1,y_test1=X[train_index],X[test_index],y[train_index],y[test_index]\n",
    "    best_svm.fit(X_train,y_train)\n",
    "scores.append(best_svm.score(X_train,y_train))\n",
    "best_svm.fit(X_train,y_train)\n",
    "scores.append(best_svm.score(X_train,y_train))\n",
    "print(np.mean(scores))\n",
    "\n",
    "    "
   ]
  },
  {
   "cell_type": "code",
   "execution_count": null,
   "metadata": {},
   "outputs": [],
   "source": []
  }
 ],
 "metadata": {
  "kernelspec": {
   "display_name": "Python 3",
   "language": "python",
   "name": "python3"
  },
  "language_info": {
   "codemirror_mode": {
    "name": "ipython",
    "version": 3
   },
   "file_extension": ".py",
   "mimetype": "text/x-python",
   "name": "python",
   "nbconvert_exporter": "python",
   "pygments_lexer": "ipython3",
   "version": "3.7.3"
  }
 },
 "nbformat": 4,
 "nbformat_minor": 5
}
